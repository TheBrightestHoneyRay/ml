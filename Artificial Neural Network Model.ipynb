{
 "cells": [
  {
   "cell_type": "code",
   "execution_count": 1,
   "metadata": {},
   "outputs": [],
   "source": [
    "import pandas as pd\n",
    "import tensorflow as tf\n",
    "data = pd.read_csv(\"C:/Users/QWERTY/Desktop/MachineLearning/creditcard.csv\")"
   ]
  },
  {
   "cell_type": "code",
   "execution_count": 2,
   "metadata": {},
   "outputs": [
    {
     "data": {
      "text/html": [
       "<div>\n",
       "<style scoped>\n",
       "    .dataframe tbody tr th:only-of-type {\n",
       "        vertical-align: middle;\n",
       "    }\n",
       "\n",
       "    .dataframe tbody tr th {\n",
       "        vertical-align: top;\n",
       "    }\n",
       "\n",
       "    .dataframe thead th {\n",
       "        text-align: right;\n",
       "    }\n",
       "</style>\n",
       "<table border=\"1\" class=\"dataframe\">\n",
       "  <thead>\n",
       "    <tr style=\"text-align: right;\">\n",
       "      <th></th>\n",
       "      <th>V1</th>\n",
       "      <th>V2</th>\n",
       "      <th>V3</th>\n",
       "      <th>V4</th>\n",
       "      <th>V5</th>\n",
       "      <th>V6</th>\n",
       "      <th>V7</th>\n",
       "      <th>V8</th>\n",
       "      <th>V9</th>\n",
       "      <th>V10</th>\n",
       "      <th>...</th>\n",
       "      <th>V20</th>\n",
       "      <th>V21</th>\n",
       "      <th>V22</th>\n",
       "      <th>V23</th>\n",
       "      <th>V24</th>\n",
       "      <th>V25</th>\n",
       "      <th>V26</th>\n",
       "      <th>V27</th>\n",
       "      <th>V28</th>\n",
       "      <th>Class</th>\n",
       "    </tr>\n",
       "  </thead>\n",
       "  <tbody>\n",
       "    <tr>\n",
       "      <td>0</td>\n",
       "      <td>-1.359807</td>\n",
       "      <td>-0.072781</td>\n",
       "      <td>2.536347</td>\n",
       "      <td>1.378155</td>\n",
       "      <td>-0.338321</td>\n",
       "      <td>0.462388</td>\n",
       "      <td>0.239599</td>\n",
       "      <td>0.098698</td>\n",
       "      <td>0.363787</td>\n",
       "      <td>0.090794</td>\n",
       "      <td>...</td>\n",
       "      <td>0.251412</td>\n",
       "      <td>-0.018307</td>\n",
       "      <td>0.277838</td>\n",
       "      <td>-0.110474</td>\n",
       "      <td>0.066928</td>\n",
       "      <td>0.128539</td>\n",
       "      <td>-0.189115</td>\n",
       "      <td>0.133558</td>\n",
       "      <td>-0.021053</td>\n",
       "      <td>0</td>\n",
       "    </tr>\n",
       "    <tr>\n",
       "      <td>1</td>\n",
       "      <td>1.191857</td>\n",
       "      <td>0.266151</td>\n",
       "      <td>0.166480</td>\n",
       "      <td>0.448154</td>\n",
       "      <td>0.060018</td>\n",
       "      <td>-0.082361</td>\n",
       "      <td>-0.078803</td>\n",
       "      <td>0.085102</td>\n",
       "      <td>-0.255425</td>\n",
       "      <td>-0.166974</td>\n",
       "      <td>...</td>\n",
       "      <td>-0.069083</td>\n",
       "      <td>-0.225775</td>\n",
       "      <td>-0.638672</td>\n",
       "      <td>0.101288</td>\n",
       "      <td>-0.339846</td>\n",
       "      <td>0.167170</td>\n",
       "      <td>0.125895</td>\n",
       "      <td>-0.008983</td>\n",
       "      <td>0.014724</td>\n",
       "      <td>0</td>\n",
       "    </tr>\n",
       "    <tr>\n",
       "      <td>2</td>\n",
       "      <td>-1.358354</td>\n",
       "      <td>-1.340163</td>\n",
       "      <td>1.773209</td>\n",
       "      <td>0.379780</td>\n",
       "      <td>-0.503198</td>\n",
       "      <td>1.800499</td>\n",
       "      <td>0.791461</td>\n",
       "      <td>0.247676</td>\n",
       "      <td>-1.514654</td>\n",
       "      <td>0.207643</td>\n",
       "      <td>...</td>\n",
       "      <td>0.524980</td>\n",
       "      <td>0.247998</td>\n",
       "      <td>0.771679</td>\n",
       "      <td>0.909412</td>\n",
       "      <td>-0.689281</td>\n",
       "      <td>-0.327642</td>\n",
       "      <td>-0.139097</td>\n",
       "      <td>-0.055353</td>\n",
       "      <td>-0.059752</td>\n",
       "      <td>0</td>\n",
       "    </tr>\n",
       "    <tr>\n",
       "      <td>3</td>\n",
       "      <td>-0.966272</td>\n",
       "      <td>-0.185226</td>\n",
       "      <td>1.792993</td>\n",
       "      <td>-0.863291</td>\n",
       "      <td>-0.010309</td>\n",
       "      <td>1.247203</td>\n",
       "      <td>0.237609</td>\n",
       "      <td>0.377436</td>\n",
       "      <td>-1.387024</td>\n",
       "      <td>-0.054952</td>\n",
       "      <td>...</td>\n",
       "      <td>-0.208038</td>\n",
       "      <td>-0.108300</td>\n",
       "      <td>0.005274</td>\n",
       "      <td>-0.190321</td>\n",
       "      <td>-1.175575</td>\n",
       "      <td>0.647376</td>\n",
       "      <td>-0.221929</td>\n",
       "      <td>0.062723</td>\n",
       "      <td>0.061458</td>\n",
       "      <td>0</td>\n",
       "    </tr>\n",
       "    <tr>\n",
       "      <td>4</td>\n",
       "      <td>-1.158233</td>\n",
       "      <td>0.877737</td>\n",
       "      <td>1.548718</td>\n",
       "      <td>0.403034</td>\n",
       "      <td>-0.407193</td>\n",
       "      <td>0.095921</td>\n",
       "      <td>0.592941</td>\n",
       "      <td>-0.270533</td>\n",
       "      <td>0.817739</td>\n",
       "      <td>0.753074</td>\n",
       "      <td>...</td>\n",
       "      <td>0.408542</td>\n",
       "      <td>-0.009431</td>\n",
       "      <td>0.798278</td>\n",
       "      <td>-0.137458</td>\n",
       "      <td>0.141267</td>\n",
       "      <td>-0.206010</td>\n",
       "      <td>0.502292</td>\n",
       "      <td>0.219422</td>\n",
       "      <td>0.215153</td>\n",
       "      <td>0</td>\n",
       "    </tr>\n",
       "  </tbody>\n",
       "</table>\n",
       "<p>5 rows × 29 columns</p>\n",
       "</div>"
      ],
      "text/plain": [
       "         V1        V2        V3        V4        V5        V6        V7  \\\n",
       "0 -1.359807 -0.072781  2.536347  1.378155 -0.338321  0.462388  0.239599   \n",
       "1  1.191857  0.266151  0.166480  0.448154  0.060018 -0.082361 -0.078803   \n",
       "2 -1.358354 -1.340163  1.773209  0.379780 -0.503198  1.800499  0.791461   \n",
       "3 -0.966272 -0.185226  1.792993 -0.863291 -0.010309  1.247203  0.237609   \n",
       "4 -1.158233  0.877737  1.548718  0.403034 -0.407193  0.095921  0.592941   \n",
       "\n",
       "         V8        V9       V10  ...       V20       V21       V22       V23  \\\n",
       "0  0.098698  0.363787  0.090794  ...  0.251412 -0.018307  0.277838 -0.110474   \n",
       "1  0.085102 -0.255425 -0.166974  ... -0.069083 -0.225775 -0.638672  0.101288   \n",
       "2  0.247676 -1.514654  0.207643  ...  0.524980  0.247998  0.771679  0.909412   \n",
       "3  0.377436 -1.387024 -0.054952  ... -0.208038 -0.108300  0.005274 -0.190321   \n",
       "4 -0.270533  0.817739  0.753074  ...  0.408542 -0.009431  0.798278 -0.137458   \n",
       "\n",
       "        V24       V25       V26       V27       V28  Class  \n",
       "0  0.066928  0.128539 -0.189115  0.133558 -0.021053      0  \n",
       "1 -0.339846  0.167170  0.125895 -0.008983  0.014724      0  \n",
       "2 -0.689281 -0.327642 -0.139097 -0.055353 -0.059752      0  \n",
       "3 -1.175575  0.647376 -0.221929  0.062723  0.061458      0  \n",
       "4  0.141267 -0.206010  0.502292  0.219422  0.215153      0  \n",
       "\n",
       "[5 rows x 29 columns]"
      ]
     },
     "execution_count": 2,
     "metadata": {},
     "output_type": "execute_result"
    }
   ],
   "source": [
    "from sklearn.preprocessing import StandardScaler\n",
    "data = data.drop(['Amount'],axis=1)\n",
    "data = data.drop(['Time'],axis=1)\n",
    "data.head()"
   ]
  },
  {
   "cell_type": "code",
   "execution_count": 3,
   "metadata": {},
   "outputs": [
    {
     "ename": "NameError",
     "evalue": "name 'plt' is not defined",
     "output_type": "error",
     "traceback": [
      "\u001b[1;31m---------------------------------------------------------------------------\u001b[0m",
      "\u001b[1;31mNameError\u001b[0m                                 Traceback (most recent call last)",
      "\u001b[1;32m<ipython-input-3-727d88478626>\u001b[0m in \u001b[0;36m<module>\u001b[1;34m\u001b[0m\n\u001b[1;32m----> 1\u001b[1;33m \u001b[0mplt\u001b[0m\u001b[1;33m.\u001b[0m\u001b[0mplot\u001b[0m\u001b[1;33m(\u001b[0m\u001b[0mdata\u001b[0m\u001b[1;33m)\u001b[0m\u001b[1;33m\u001b[0m\u001b[1;33m\u001b[0m\u001b[0m\n\u001b[0m",
      "\u001b[1;31mNameError\u001b[0m: name 'plt' is not defined"
     ]
    }
   ],
   "source": [
    "plt.plot(data)"
   ]
  },
  {
   "cell_type": "code",
   "execution_count": 4,
   "metadata": {},
   "outputs": [],
   "source": [
    "X = data.iloc[:, data.columns != 'Class']\n",
    "y = data.iloc[:, data.columns == 'Class']\n",
    "from sklearn.model_selection import train_test_split\n",
    "X_train, X_test, y_train, y_test = train_test_split(X,y, test_size = 0.3, random_state=0)"
   ]
  },
  {
   "cell_type": "code",
   "execution_count": 5,
   "metadata": {},
   "outputs": [
    {
     "data": {
      "text/plain": [
       "199364"
      ]
     },
     "execution_count": 5,
     "metadata": {},
     "output_type": "execute_result"
    }
   ],
   "source": [
    "X_train.shape[0]"
   ]
  },
  {
   "cell_type": "code",
   "execution_count": 6,
   "metadata": {},
   "outputs": [],
   "source": [
    "X_test.shape[0]\n",
    "input_shape = (29, 1)"
   ]
  },
  {
   "cell_type": "code",
   "execution_count": 7,
   "metadata": {},
   "outputs": [
    {
     "name": "stderr",
     "output_type": "stream",
     "text": [
      "Using TensorFlow backend.\n"
     ]
    },
    {
     "name": "stdout",
     "output_type": "stream",
     "text": [
      "Epoch 1/10\n",
      "199364/199364 [==============================] - 50s 252us/step - loss: 0.0751 - accuracy: 0.9981\n",
      "Epoch 2/10\n",
      "199364/199364 [==============================] - 45s 225us/step - loss: 0.0194 - accuracy: 0.9983\n",
      "Epoch 3/10\n",
      "199364/199364 [==============================] - 40s 202us/step - loss: 0.0157 - accuracy: 0.9983\n",
      "Epoch 4/10\n",
      "199364/199364 [==============================] - 42s 209us/step - loss: 0.0144 - accuracy: 0.9983\n",
      "Epoch 5/10\n",
      "199364/199364 [==============================] - 41s 206us/step - loss: 0.0138 - accuracy: 0.9983\n",
      "Epoch 6/10\n",
      "199364/199364 [==============================] - 45s 224us/step - loss: 0.0134 - accuracy: 0.9983\n",
      "Epoch 7/10\n",
      "199364/199364 [==============================] - 43s 213us/step - loss: 0.0132 - accuracy: 0.9983\n",
      "Epoch 8/10\n",
      "199364/199364 [==============================] - 42s 212us/step - loss: 0.0131 - accuracy: 0.9983\n",
      "Epoch 9/10\n",
      "199364/199364 [==============================] - 47s 236us/step - loss: 0.0130 - accuracy: 0.9983\n",
      "Epoch 10/10\n",
      "199364/199364 [==============================] - 42s 209us/step - loss: 0.0129 - accuracy: 0.9983\n"
     ]
    },
    {
     "data": {
      "text/plain": [
       "<keras.callbacks.callbacks.History at 0x229c18145c8>"
      ]
     },
     "execution_count": 7,
     "metadata": {},
     "output_type": "execute_result"
    }
   ],
   "source": [
    "# Importing the Keras libraries and packages\n",
    "import keras\n",
    "from keras.models import Sequential\n",
    "from keras.layers import Dense\n",
    "# Initialising the ANN\n",
    "model = Sequential()\n",
    "# Adding the input layer and the first hidden layer\n",
    "model.add(Dense(units =15 , kernel_initializer = 'uniform', activation = tf.nn.relu, input_dim = 28))\n",
    "# Adding the second hidden layer\n",
    "model.add(Dense(units = 15, kernel_initializer = 'uniform', activation = tf.nn.softmax))\n",
    "# Adding the output layer\n",
    "model.add(Dense(units = 1, kernel_initializer = 'uniform', activation = tf.nn.sigmoid))\n",
    "# Compiling the ANN\n",
    "model.compile(optimizer='sgd',  loss='binary_crossentropy',  metrics=['accuracy'])\n",
    "model.fit(x=X_train,y=y_train, epochs=10)"
   ]
  },
  {
   "cell_type": "code",
   "execution_count": 81,
   "metadata": {},
   "outputs": [
    {
     "name": "stdout",
     "output_type": "stream",
     "text": [
      "Epoch 1/10\n",
      "199364/199364 [==============================] - 26s 132us/step - loss: 0.0102 - accuracy: 0.9983\n",
      "Epoch 2/10\n",
      "199364/199364 [==============================] - 40s 199us/step - loss: 0.0069 - accuracy: 0.9983\n",
      "Epoch 3/10\n",
      "199364/199364 [==============================] - 26s 132us/step - loss: 0.0045 - accuracy: 0.9983\n",
      "Epoch 4/10\n",
      "199364/199364 [==============================] - 28s 142us/step - loss: 0.0034 - accuracy: 0.9991\n",
      "Epoch 5/10\n",
      "199364/199364 [==============================] - 29s 144us/step - loss: 0.0030 - accuracy: 0.9994\n",
      "Epoch 6/10\n",
      "199364/199364 [==============================] - 24s 120us/step - loss: 0.0029 - accuracy: 0.9994\n",
      "Epoch 7/10\n",
      "199364/199364 [==============================] - 26s 128us/step - loss: 0.0029 - accuracy: 0.9994\n",
      "Epoch 8/10\n",
      "199364/199364 [==============================] - 24s 122us/step - loss: 0.0028 - accuracy: 0.9994\n",
      "Epoch 9/10\n",
      "199364/199364 [==============================] - 26s 131us/step - loss: 0.0028 - accuracy: 0.9994\n",
      "Epoch 10/10\n",
      "199364/199364 [==============================] - 33s 165us/step - loss: 0.0028 - accuracy: 0.9995\n"
     ]
    },
    {
     "data": {
      "text/plain": [
       "<keras.callbacks.callbacks.History at 0x2039ace0288>"
      ]
     },
     "execution_count": 81,
     "metadata": {},
     "output_type": "execute_result"
    }
   ],
   "source": [
    "model.compile(optimizer='adam',  loss='binary_crossentropy',  metrics=['accuracy'])\n",
    "model.fit(x=X_train,y=y_train, epochs=10)"
   ]
  },
  {
   "cell_type": "code",
   "execution_count": 82,
   "metadata": {},
   "outputs": [
    {
     "name": "stdout",
     "output_type": "stream",
     "text": [
      "Epoch 1/10\n",
      "199364/199364 [==============================] - 24s 120us/step - loss: 0.0040 - accuracy: 0.9994\n",
      "Epoch 2/10\n",
      "199364/199364 [==============================] - 22s 110us/step - loss: 0.0042 - accuracy: 0.9994\n",
      "Epoch 3/10\n",
      "199364/199364 [==============================] - 21s 104us/step - loss: 0.0044 - accuracy: 0.9994\n",
      "Epoch 4/10\n",
      "199364/199364 [==============================] - 22s 110us/step - loss: 0.0045 - accuracy: 0.9994\n",
      "Epoch 5/10\n",
      "199364/199364 [==============================] - 25s 124us/step - loss: 0.0045 - accuracy: 0.9995\n",
      "Epoch 6/10\n",
      "199364/199364 [==============================] - 22s 110us/step - loss: 0.0046 - accuracy: 0.9995\n",
      "Epoch 7/10\n",
      "199364/199364 [==============================] - 28s 140us/step - loss: 0.0046 - accuracy: 0.9995\n",
      "Epoch 8/10\n",
      "199364/199364 [==============================] - 26s 130us/step - loss: 0.0048 - accuracy: 0.9995\n",
      "Epoch 9/10\n",
      "199364/199364 [==============================] - 18s 90us/step - loss: 0.0050 - accuracy: 0.9995\n",
      "Epoch 10/10\n",
      "199364/199364 [==============================] - 15s 75us/step - loss: 0.0050 - accuracy: 0.9995\n"
     ]
    },
    {
     "data": {
      "text/plain": [
       "<keras.callbacks.callbacks.History at 0x2039b0e6948>"
      ]
     },
     "execution_count": 82,
     "metadata": {},
     "output_type": "execute_result"
    }
   ],
   "source": [
    "model.compile(optimizer='RMSprop',  loss='binary_crossentropy',  metrics=['accuracy'])\n",
    "model.fit(x=X_train,y=y_train, epochs=10)"
   ]
  },
  {
   "cell_type": "code",
   "execution_count": 83,
   "metadata": {},
   "outputs": [
    {
     "name": "stdout",
     "output_type": "stream",
     "text": [
      "Epoch 1/10\n",
      "199364/199364 [==============================] - 14s 71us/step - loss: 0.0048 - accuracy: 0.9995\n",
      "Epoch 2/10\n",
      "199364/199364 [==============================] - 15s 73us/step - loss: 0.0042 - accuracy: 0.9995\n",
      "Epoch 3/10\n",
      "199364/199364 [==============================] - 15s 74us/step - loss: 0.0041 - accuracy: 0.9995\n",
      "Epoch 4/10\n",
      "199364/199364 [==============================] - 14s 71us/step - loss: 0.0040 - accuracy: 0.9995\n",
      "Epoch 5/10\n",
      "199364/199364 [==============================] - 15s 74us/step - loss: 0.0040 - accuracy: 0.9995\n",
      "Epoch 6/10\n",
      "199364/199364 [==============================] - 17s 84us/step - loss: 0.0039 - accuracy: 0.9995\n",
      "Epoch 7/10\n",
      "199364/199364 [==============================] - 15s 75us/step - loss: 0.0039 - accuracy: 0.9995\n",
      "Epoch 8/10\n",
      "199364/199364 [==============================] - 14s 71us/step - loss: 0.0039 - accuracy: 0.9995\n",
      "Epoch 9/10\n",
      "199364/199364 [==============================] - 15s 78us/step - loss: 0.0038 - accuracy: 0.9995\n",
      "Epoch 10/10\n",
      "199364/199364 [==============================] - 15s 73us/step - loss: 0.0038 - accuracy: 0.9995\n"
     ]
    },
    {
     "data": {
      "text/plain": [
       "<keras.callbacks.callbacks.History at 0x2039b0369c8>"
      ]
     },
     "execution_count": 83,
     "metadata": {},
     "output_type": "execute_result"
    }
   ],
   "source": [
    "model.compile(optimizer='Adagrad',  loss='binary_crossentropy',  metrics=['accuracy'])\n",
    "model.fit(x=X_train,y=y_train, epochs=10)"
   ]
  },
  {
   "cell_type": "code",
   "execution_count": 89,
   "metadata": {},
   "outputs": [
    {
     "name": "stdout",
     "output_type": "stream",
     "text": [
      "Epoch 1/10\n",
      "199364/199364 [==============================] - 15s 78us/step - loss: 0.0762 - accuracy: 0.9896\n",
      "Epoch 2/10\n",
      "199364/199364 [==============================] - 16s 80us/step - loss: 0.0225 - accuracy: 0.9983\n",
      "Epoch 3/10\n",
      "199364/199364 [==============================] - 17s 84us/step - loss: 0.0193 - accuracy: 0.9983\n",
      "Epoch 4/10\n",
      "199364/199364 [==============================] - 16s 82us/step - loss: 0.0177 - accuracy: 0.9983\n",
      "Epoch 5/10\n",
      "199364/199364 [==============================] - 19s 96us/step - loss: 0.0167 - accuracy: 0.9983\n",
      "Epoch 6/10\n",
      "199364/199364 [==============================] - 20s 102us/step - loss: 0.0164 - accuracy: 0.9983\n",
      "Epoch 7/10\n",
      "199364/199364 [==============================] - 33s 167us/step - loss: 0.0160 - accuracy: 0.9983\n",
      "Epoch 8/10\n",
      "199364/199364 [==============================] - 26s 129us/step - loss: 0.0158 - accuracy: 0.9983\n",
      "Epoch 9/10\n",
      "199364/199364 [==============================] - 20s 100us/step - loss: 0.0163 - accuracy: 0.9983\n",
      "Epoch 10/10\n",
      "199364/199364 [==============================] - 18s 89us/step - loss: 0.0153 - accuracy: 0.9983\n"
     ]
    },
    {
     "data": {
      "text/plain": [
       "<keras.callbacks.callbacks.History at 0x202f5454cc8>"
      ]
     },
     "execution_count": 89,
     "metadata": {},
     "output_type": "execute_result"
    }
   ],
   "source": [
    "#This is with some dropout layer\n",
    "# Importing the Keras libraries and packages\n",
    "import keras\n",
    "from keras.models import Sequential\n",
    "from keras.layers import Dense, Dropout\n",
    "# Initialising the ANN\n",
    "model = Sequential()\n",
    "# Adding the input layer and the first hidden layer\n",
    "model.add(Dense(units =15 , kernel_initializer = 'uniform', activation = tf.nn.relu, input_dim = 29))\n",
    "model.add(Dropout(0.2))\n",
    "# Adding the second hidden layer\n",
    "model.add(Dense(units = 15, kernel_initializer = 'uniform', activation = tf.nn.softmax))\n",
    "model.add(Dropout(0.2))\n",
    "         \n",
    "# Adding the output layer\n",
    "model.add(Dense(units = 1, kernel_initializer = 'uniform', activation = tf.nn.sigmoid))\n",
    "model.add(Dropout(0.2))\n",
    "\n",
    "# Compiling the ANN\n",
    "model.compile(optimizer='sgd',  loss='binary_crossentropy',  metrics=['accuracy'])\n",
    "model.fit(x=X_train,y=y_train, epochs=10)"
   ]
  },
  {
   "cell_type": "code",
   "execution_count": 131,
   "metadata": {},
   "outputs": [],
   "source": [
    "pred = model.predict(X_test)\n",
    "y_pred = (y_pred>0.5)\n"
   ]
  },
  {
   "cell_type": "code",
   "execution_count": 132,
   "metadata": {},
   "outputs": [
    {
     "data": {
      "text/plain": [
       "array([[85277,    19],\n",
       "       [   30,   117]], dtype=int64)"
      ]
     },
     "execution_count": 132,
     "metadata": {},
     "output_type": "execute_result"
    }
   ],
   "source": [
    "from sklearn.metrics import confusion_matrix\n",
    "confusion_matrix(y_test, y_pred)"
   ]
  },
  {
   "cell_type": "code",
   "execution_count": 134,
   "metadata": {},
   "outputs": [],
   "source": [
    "from sklearn.metrics import classification_report"
   ]
  },
  {
   "cell_type": "code",
   "execution_count": 135,
   "metadata": {},
   "outputs": [
    {
     "name": "stdout",
     "output_type": "stream",
     "text": [
      "              precision    recall  f1-score   support\n",
      "\n",
      "           0       1.00      1.00      1.00     85296\n",
      "           1       0.86      0.80      0.83       147\n",
      "\n",
      "    accuracy                           1.00     85443\n",
      "   macro avg       0.93      0.90      0.91     85443\n",
      "weighted avg       1.00      1.00      1.00     85443\n",
      "\n"
     ]
    }
   ],
   "source": [
    "print(classification_report(y_test, y_pred))"
   ]
  },
  {
   "cell_type": "code",
   "execution_count": null,
   "metadata": {},
   "outputs": [],
   "source": []
  },
  {
   "cell_type": "code",
   "execution_count": null,
   "metadata": {},
   "outputs": [],
   "source": []
  }
 ],
 "metadata": {
  "kernelspec": {
   "display_name": "Python 3",
   "language": "python",
   "name": "python3"
  },
  "language_info": {
   "codemirror_mode": {
    "name": "ipython",
    "version": 3
   },
   "file_extension": ".py",
   "mimetype": "text/x-python",
   "name": "python",
   "nbconvert_exporter": "python",
   "pygments_lexer": "ipython3",
   "version": "3.7.4"
  }
 },
 "nbformat": 4,
 "nbformat_minor": 2
}
