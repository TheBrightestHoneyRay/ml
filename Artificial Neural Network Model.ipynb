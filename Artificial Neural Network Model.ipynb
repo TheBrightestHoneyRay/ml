{
 "cells": [
  {
   "cell_type": "code",
   "execution_count": 1,
   "metadata": {},
   "outputs": [],
   "source": [
    "import pandas as pd\n",
    "import tensorflow as tf\n",
    "data = pd.read_csv(\"C:/Users/QWERTY/Desktop/MachineLearning/creditcard.csv\")"
   ]
  },
  {
   "cell_type": "code",
   "execution_count": 2,
   "metadata": {},
   "outputs": [
    {
     "data": {
      "text/html": [
       "<div>\n",
       "<style scoped>\n",
       "    .dataframe tbody tr th:only-of-type {\n",
       "        vertical-align: middle;\n",
       "    }\n",
       "\n",
       "    .dataframe tbody tr th {\n",
       "        vertical-align: top;\n",
       "    }\n",
       "\n",
       "    .dataframe thead th {\n",
       "        text-align: right;\n",
       "    }\n",
       "</style>\n",
       "<table border=\"1\" class=\"dataframe\">\n",
       "  <thead>\n",
       "    <tr style=\"text-align: right;\">\n",
       "      <th></th>\n",
       "      <th>V1</th>\n",
       "      <th>V2</th>\n",
       "      <th>V3</th>\n",
       "      <th>V4</th>\n",
       "      <th>V5</th>\n",
       "      <th>V6</th>\n",
       "      <th>V7</th>\n",
       "      <th>V8</th>\n",
       "      <th>V9</th>\n",
       "      <th>V10</th>\n",
       "      <th>...</th>\n",
       "      <th>V20</th>\n",
       "      <th>V21</th>\n",
       "      <th>V22</th>\n",
       "      <th>V23</th>\n",
       "      <th>V24</th>\n",
       "      <th>V25</th>\n",
       "      <th>V26</th>\n",
       "      <th>V27</th>\n",
       "      <th>V28</th>\n",
       "      <th>Class</th>\n",
       "    </tr>\n",
       "  </thead>\n",
       "  <tbody>\n",
       "    <tr>\n",
       "      <td>0</td>\n",
       "      <td>-1.359807</td>\n",
       "      <td>-0.072781</td>\n",
       "      <td>2.536347</td>\n",
       "      <td>1.378155</td>\n",
       "      <td>-0.338321</td>\n",
       "      <td>0.462388</td>\n",
       "      <td>0.239599</td>\n",
       "      <td>0.098698</td>\n",
       "      <td>0.363787</td>\n",
       "      <td>0.090794</td>\n",
       "      <td>...</td>\n",
       "      <td>0.251412</td>\n",
       "      <td>-0.018307</td>\n",
       "      <td>0.277838</td>\n",
       "      <td>-0.110474</td>\n",
       "      <td>0.066928</td>\n",
       "      <td>0.128539</td>\n",
       "      <td>-0.189115</td>\n",
       "      <td>0.133558</td>\n",
       "      <td>-0.021053</td>\n",
       "      <td>0</td>\n",
       "    </tr>\n",
       "    <tr>\n",
       "      <td>1</td>\n",
       "      <td>1.191857</td>\n",
       "      <td>0.266151</td>\n",
       "      <td>0.166480</td>\n",
       "      <td>0.448154</td>\n",
       "      <td>0.060018</td>\n",
       "      <td>-0.082361</td>\n",
       "      <td>-0.078803</td>\n",
       "      <td>0.085102</td>\n",
       "      <td>-0.255425</td>\n",
       "      <td>-0.166974</td>\n",
       "      <td>...</td>\n",
       "      <td>-0.069083</td>\n",
       "      <td>-0.225775</td>\n",
       "      <td>-0.638672</td>\n",
       "      <td>0.101288</td>\n",
       "      <td>-0.339846</td>\n",
       "      <td>0.167170</td>\n",
       "      <td>0.125895</td>\n",
       "      <td>-0.008983</td>\n",
       "      <td>0.014724</td>\n",
       "      <td>0</td>\n",
       "    </tr>\n",
       "    <tr>\n",
       "      <td>2</td>\n",
       "      <td>-1.358354</td>\n",
       "      <td>-1.340163</td>\n",
       "      <td>1.773209</td>\n",
       "      <td>0.379780</td>\n",
       "      <td>-0.503198</td>\n",
       "      <td>1.800499</td>\n",
       "      <td>0.791461</td>\n",
       "      <td>0.247676</td>\n",
       "      <td>-1.514654</td>\n",
       "      <td>0.207643</td>\n",
       "      <td>...</td>\n",
       "      <td>0.524980</td>\n",
       "      <td>0.247998</td>\n",
       "      <td>0.771679</td>\n",
       "      <td>0.909412</td>\n",
       "      <td>-0.689281</td>\n",
       "      <td>-0.327642</td>\n",
       "      <td>-0.139097</td>\n",
       "      <td>-0.055353</td>\n",
       "      <td>-0.059752</td>\n",
       "      <td>0</td>\n",
       "    </tr>\n",
       "    <tr>\n",
       "      <td>3</td>\n",
       "      <td>-0.966272</td>\n",
       "      <td>-0.185226</td>\n",
       "      <td>1.792993</td>\n",
       "      <td>-0.863291</td>\n",
       "      <td>-0.010309</td>\n",
       "      <td>1.247203</td>\n",
       "      <td>0.237609</td>\n",
       "      <td>0.377436</td>\n",
       "      <td>-1.387024</td>\n",
       "      <td>-0.054952</td>\n",
       "      <td>...</td>\n",
       "      <td>-0.208038</td>\n",
       "      <td>-0.108300</td>\n",
       "      <td>0.005274</td>\n",
       "      <td>-0.190321</td>\n",
       "      <td>-1.175575</td>\n",
       "      <td>0.647376</td>\n",
       "      <td>-0.221929</td>\n",
       "      <td>0.062723</td>\n",
       "      <td>0.061458</td>\n",
       "      <td>0</td>\n",
       "    </tr>\n",
       "    <tr>\n",
       "      <td>4</td>\n",
       "      <td>-1.158233</td>\n",
       "      <td>0.877737</td>\n",
       "      <td>1.548718</td>\n",
       "      <td>0.403034</td>\n",
       "      <td>-0.407193</td>\n",
       "      <td>0.095921</td>\n",
       "      <td>0.592941</td>\n",
       "      <td>-0.270533</td>\n",
       "      <td>0.817739</td>\n",
       "      <td>0.753074</td>\n",
       "      <td>...</td>\n",
       "      <td>0.408542</td>\n",
       "      <td>-0.009431</td>\n",
       "      <td>0.798278</td>\n",
       "      <td>-0.137458</td>\n",
       "      <td>0.141267</td>\n",
       "      <td>-0.206010</td>\n",
       "      <td>0.502292</td>\n",
       "      <td>0.219422</td>\n",
       "      <td>0.215153</td>\n",
       "      <td>0</td>\n",
       "    </tr>\n",
       "  </tbody>\n",
       "</table>\n",
       "<p>5 rows × 29 columns</p>\n",
       "</div>"
      ],
      "text/plain": [
       "         V1        V2        V3        V4        V5        V6        V7  \\\n",
       "0 -1.359807 -0.072781  2.536347  1.378155 -0.338321  0.462388  0.239599   \n",
       "1  1.191857  0.266151  0.166480  0.448154  0.060018 -0.082361 -0.078803   \n",
       "2 -1.358354 -1.340163  1.773209  0.379780 -0.503198  1.800499  0.791461   \n",
       "3 -0.966272 -0.185226  1.792993 -0.863291 -0.010309  1.247203  0.237609   \n",
       "4 -1.158233  0.877737  1.548718  0.403034 -0.407193  0.095921  0.592941   \n",
       "\n",
       "         V8        V9       V10  ...       V20       V21       V22       V23  \\\n",
       "0  0.098698  0.363787  0.090794  ...  0.251412 -0.018307  0.277838 -0.110474   \n",
       "1  0.085102 -0.255425 -0.166974  ... -0.069083 -0.225775 -0.638672  0.101288   \n",
       "2  0.247676 -1.514654  0.207643  ...  0.524980  0.247998  0.771679  0.909412   \n",
       "3  0.377436 -1.387024 -0.054952  ... -0.208038 -0.108300  0.005274 -0.190321   \n",
       "4 -0.270533  0.817739  0.753074  ...  0.408542 -0.009431  0.798278 -0.137458   \n",
       "\n",
       "        V24       V25       V26       V27       V28  Class  \n",
       "0  0.066928  0.128539 -0.189115  0.133558 -0.021053      0  \n",
       "1 -0.339846  0.167170  0.125895 -0.008983  0.014724      0  \n",
       "2 -0.689281 -0.327642 -0.139097 -0.055353 -0.059752      0  \n",
       "3 -1.175575  0.647376 -0.221929  0.062723  0.061458      0  \n",
       "4  0.141267 -0.206010  0.502292  0.219422  0.215153      0  \n",
       "\n",
       "[5 rows x 29 columns]"
      ]
     },
     "execution_count": 2,
     "metadata": {},
     "output_type": "execute_result"
    }
   ],
   "source": [
    "from sklearn.preprocessing import StandardScaler\n",
    "data = data.drop(['Amount'],axis=1)\n",
    "data = data.drop(['Time'],axis=1)\n",
    "data.head()"
   ]
  },
  {
   "cell_type": "code",
   "execution_count": 136,
   "metadata": {},
   "outputs": [],
   "source": [
    "X = data.iloc[:, data.columns != 'Class']\n",
    "y = data.iloc[:, data.columns == 'Class']\n",
    "from sklearn.model_selection import train_test_split\n",
    "X_train, X_test, y_train, y_test = train_test_split(X,y, test_size = 0.3, random_state=0)"
   ]
  },
  {
   "cell_type": "code",
   "execution_count": 107,
   "metadata": {},
   "outputs": [
    {
     "data": {
      "text/plain": [
       "199364"
      ]
     },
     "execution_count": 107,
     "metadata": {},
     "output_type": "execute_result"
    }
   ],
   "source": [
    "X_train.shape[0]"
   ]
  },
  {
   "cell_type": "code",
   "execution_count": 108,
   "metadata": {},
   "outputs": [],
   "source": [
    "\n",
    "input_shape = (29, 1)"
   ]
  },
  {
   "cell_type": "code",
   "execution_count": 137,
   "metadata": {},
   "outputs": [
    {
     "data": {
      "text/plain": [
       "85443"
      ]
     },
     "execution_count": 137,
     "metadata": {},
     "output_type": "execute_result"
    }
   ],
   "source": [
    "X_test.shape[0]"
   ]
  },
  {
   "cell_type": "code",
   "execution_count": null,
   "metadata": {},
   "outputs": [],
   "source": [
    "###############################################################################################################################"
   ]
  },
  {
   "cell_type": "code",
   "execution_count": 109,
   "metadata": {},
   "outputs": [],
   "source": [
    "#First of all, we will try to compile with\n",
    "# 3 layers(relu, softmax, sigmoid) \n",
    "# with SGD optimizer\n",
    "# loss = binary_crossentropy "
   ]
  },
  {
   "cell_type": "code",
   "execution_count": 110,
   "metadata": {},
   "outputs": [],
   "source": [
    "# Importing the Keras libraries and packages\n",
    "import keras\n",
    "from keras.models import Sequential\n",
    "from keras.layers import Dense\n",
    "# Initialising the ANN\n",
    "model = Sequential()\n",
    "# Adding the input layer and the first hidden layer\n",
    "model.add(Dense(units =15 , kernel_initializer = 'uniform', activation = tf.nn.relu, input_dim = 28))\n",
    "# Adding the second hidden layer\n",
    "model.add(Dense(units = 15, kernel_initializer = 'uniform', activation = tf.nn.softmax))\n",
    "# Adding the output layer\n",
    "model.add(Dense(units = 1, kernel_initializer = 'uniform', activation = tf.nn.sigmoid))\n",
    "\n"
   ]
  },
  {
   "cell_type": "code",
   "execution_count": 77,
   "metadata": {},
   "outputs": [
    {
     "name": "stdout",
     "output_type": "stream",
     "text": [
      "Epoch 1/10\n",
      "199364/199364 [==============================] - 17s 83us/step - loss: 0.0750 - accuracy: 0.9983\n",
      "Epoch 2/10\n",
      "199364/199364 [==============================] - 15s 77us/step - loss: 0.0194 - accuracy: 0.9983\n",
      "Epoch 3/10\n",
      "199364/199364 [==============================] - 17s 83us/step - loss: 0.0157 - accuracy: 0.9983\n",
      "Epoch 4/10\n",
      "199364/199364 [==============================] - 17s 84us/step - loss: 0.0144 - accuracy: 0.9983\n",
      "Epoch 5/10\n",
      "199364/199364 [==============================] - 16s 81us/step - loss: 0.0138 - accuracy: 0.9983\n",
      "Epoch 6/10\n",
      "199364/199364 [==============================] - 16s 78us/step - loss: 0.0134 - accuracy: 0.9983\n",
      "Epoch 7/10\n",
      "199364/199364 [==============================] - 16s 79us/step - loss: 0.0132 - accuracy: 0.9983\n",
      "Epoch 8/10\n",
      "199364/199364 [==============================] - 17s 84us/step - loss: 0.0131 - accuracy: 0.9983\n",
      "Epoch 9/10\n",
      "199364/199364 [==============================] - 17s 84us/step - loss: 0.0130 - accuracy: 0.9983\n",
      "Epoch 10/10\n",
      "199364/199364 [==============================] - 16s 80us/step - loss: 0.0129 - accuracy: 0.9983\n"
     ]
    },
    {
     "data": {
      "text/plain": [
       "<keras.callbacks.callbacks.History at 0x1df21f4cdc8>"
      ]
     },
     "execution_count": 77,
     "metadata": {},
     "output_type": "execute_result"
    }
   ],
   "source": [
    "# Compiling the ANN\n",
    "model.compile(optimizer='sgd',  loss='binary_crossentropy',  metrics=['accuracy'])\n",
    "model.fit(x=X_train,y=y_train, epochs=10)"
   ]
  },
  {
   "cell_type": "code",
   "execution_count": 78,
   "metadata": {},
   "outputs": [
    {
     "name": "stdout",
     "output_type": "stream",
     "text": [
      "85443/85443 [==============================] - 4s 45us/step\n"
     ]
    },
    {
     "data": {
      "text/plain": [
       "[0.012820375721407169, 0.9982795715332031]"
      ]
     },
     "execution_count": 78,
     "metadata": {},
     "output_type": "execute_result"
    }
   ],
   "source": [
    "model.evaluate(X_test, y_test)"
   ]
  },
  {
   "cell_type": "code",
   "execution_count": 79,
   "metadata": {},
   "outputs": [
    {
     "data": {
      "text/plain": [
       "array([[85296,     0],\n",
       "       [  147,     0]], dtype=int64)"
      ]
     },
     "execution_count": 79,
     "metadata": {},
     "output_type": "execute_result"
    }
   ],
   "source": [
    "y_pred = model.predict(X_test)\n",
    "y_pred = (y_pred > 0.5)\n",
    "from sklearn.metrics import confusion_matrix\n",
    "confusion_matrix(y_test, y_pred)"
   ]
  },
  {
   "cell_type": "code",
   "execution_count": 80,
   "metadata": {},
   "outputs": [
    {
     "name": "stdout",
     "output_type": "stream",
     "text": [
      "              precision    recall  f1-score   support\n",
      "\n",
      "           0       1.00      1.00      1.00     85296\n",
      "           1       0.00      0.00      0.00       147\n",
      "\n",
      "    accuracy                           1.00     85443\n",
      "   macro avg       0.50      0.50      0.50     85443\n",
      "weighted avg       1.00      1.00      1.00     85443\n",
      "\n"
     ]
    }
   ],
   "source": [
    "from sklearn.metrics import classification_report\n",
    "print(classification_report(y_test, y_pred))"
   ]
  },
  {
   "cell_type": "code",
   "execution_count": null,
   "metadata": {},
   "outputs": [],
   "source": [
    "# 3 layers(relu, softmax, sigmoid) \n",
    "# with ******ADAM****** optimizer\n",
    "# loss = binary_crossentropy "
   ]
  },
  {
   "cell_type": "code",
   "execution_count": 45,
   "metadata": {},
   "outputs": [
    {
     "name": "stdout",
     "output_type": "stream",
     "text": [
      "Epoch 1/10\n",
      "199364/199364 [==============================] - 18s 92us/step - loss: 0.0102 - accuracy: 0.9983\n",
      "Epoch 2/10\n",
      "199364/199364 [==============================] - 19s 96us/step - loss: 0.0068 - accuracy: 0.9983\n",
      "Epoch 3/10\n",
      "199364/199364 [==============================] - 19s 97us/step - loss: 0.0045 - accuracy: 0.9983\n",
      "Epoch 4/10\n",
      "199364/199364 [==============================] - 18s 92us/step - loss: 0.0033 - accuracy: 0.9991\n",
      "Epoch 5/10\n",
      "199364/199364 [==============================] - 18s 92us/step - loss: 0.0029 - accuracy: 0.9994\n",
      "Epoch 6/10\n",
      "199364/199364 [==============================] - 18s 92us/step - loss: 0.0029 - accuracy: 0.9994\n",
      "Epoch 7/10\n",
      "199364/199364 [==============================] - 19s 97us/step - loss: 0.0027 - accuracy: 0.9994\n",
      "Epoch 8/10\n",
      "199364/199364 [==============================] - 22s 109us/step - loss: 0.0026 - accuracy: 0.9994\n",
      "Epoch 9/10\n",
      "199364/199364 [==============================] - 18s 91us/step - loss: 0.0026 - accuracy: 0.9995\n",
      "Epoch 10/10\n",
      "199364/199364 [==============================] - 19s 93us/step - loss: 0.0026 - accuracy: 0.9995\n"
     ]
    },
    {
     "data": {
      "text/plain": [
       "<keras.callbacks.callbacks.History at 0x1df21bfe3c8>"
      ]
     },
     "execution_count": 45,
     "metadata": {},
     "output_type": "execute_result"
    }
   ],
   "source": [
    "model.compile(optimizer='adam',  loss='binary_crossentropy',  metrics=['accuracy'])\n",
    "model.fit(x=X_train,y=y_train, epochs=10)"
   ]
  },
  {
   "cell_type": "code",
   "execution_count": 46,
   "metadata": {},
   "outputs": [
    {
     "name": "stdout",
     "output_type": "stream",
     "text": [
      "85443/85443 [==============================] - 4s 45us/step\n"
     ]
    },
    {
     "data": {
      "text/plain": [
       "[0.0031733129818887337, 0.9994031190872192]"
      ]
     },
     "execution_count": 46,
     "metadata": {},
     "output_type": "execute_result"
    }
   ],
   "source": [
    "model.evaluate(X_test, y_test)"
   ]
  },
  {
   "cell_type": "code",
   "execution_count": 47,
   "metadata": {},
   "outputs": [
    {
     "data": {
      "text/plain": [
       "array([[85273,    23],\n",
       "       [   28,   119]], dtype=int64)"
      ]
     },
     "execution_count": 47,
     "metadata": {},
     "output_type": "execute_result"
    }
   ],
   "source": [
    "y_pred = model.predict(X_test)\n",
    "y_pred = (y_pred > 0.5)\n",
    "from sklearn.metrics import confusion_matrix\n",
    "confusion_matrix(y_test, y_pred)"
   ]
  },
  {
   "cell_type": "code",
   "execution_count": 48,
   "metadata": {},
   "outputs": [
    {
     "name": "stdout",
     "output_type": "stream",
     "text": [
      "              precision    recall  f1-score   support\n",
      "\n",
      "           0       1.00      1.00      1.00     85296\n",
      "           1       0.84      0.81      0.82       147\n",
      "\n",
      "    accuracy                           1.00     85443\n",
      "   macro avg       0.92      0.90      0.91     85443\n",
      "weighted avg       1.00      1.00      1.00     85443\n",
      "\n"
     ]
    }
   ],
   "source": [
    "from sklearn.metrics import classification_report\n",
    "print(classification_report(y_test, y_pred))"
   ]
  },
  {
   "cell_type": "code",
   "execution_count": null,
   "metadata": {},
   "outputs": [],
   "source": [
    "# 3 layers(relu, softmax, sigmoid) \n",
    "# with ******RMSprop****** optimizer\n",
    "# loss = binary_crossentropy "
   ]
  },
  {
   "cell_type": "code",
   "execution_count": 49,
   "metadata": {},
   "outputs": [],
   "source": [
    "# Importing the Keras libraries and packages\n",
    "import keras\n",
    "from keras.models import Sequential\n",
    "from keras.layers import Dense\n",
    "# Initialising the ANN\n",
    "model = Sequential()\n",
    "# Adding the input layer and the first hidden layer\n",
    "model.add(Dense(units =15 , kernel_initializer = 'uniform', activation = tf.nn.relu, input_dim = 28))\n",
    "# Adding the second hidden layer\n",
    "model.add(Dense(units = 15, kernel_initializer = 'uniform', activation = tf.nn.softmax))\n",
    "# Adding the output layer\n",
    "model.add(Dense(units = 1, kernel_initializer = 'uniform', activation = tf.nn.sigmoid))"
   ]
  },
  {
   "cell_type": "code",
   "execution_count": 51,
   "metadata": {},
   "outputs": [
    {
     "name": "stdout",
     "output_type": "stream",
     "text": [
      "Epoch 1/10\n",
      "199364/199364 [==============================] - 18s 88us/step - loss: 0.0706 - accuracy: 0.9978\n",
      "Epoch 2/10\n",
      "199364/199364 [==============================] - 21s 103us/step - loss: 0.0074 - accuracy: 0.9983\n",
      "Epoch 3/10\n",
      "199364/199364 [==============================] - 21s 104us/step - loss: 0.0057 - accuracy: 0.9983\n",
      "Epoch 4/10\n",
      "199364/199364 [==============================] - 19s 97us/step - loss: 0.0049 - accuracy: 0.9988\n",
      "Epoch 5/10\n",
      "199364/199364 [==============================] - 18s 93us/step - loss: 0.0047 - accuracy: 0.9994\n",
      "Epoch 6/10\n",
      "199364/199364 [==============================] - 18s 89us/step - loss: 0.0047 - accuracy: 0.9994\n",
      "Epoch 7/10\n",
      "199364/199364 [==============================] - 18s 90us/step - loss: 0.0050 - accuracy: 0.9994\n",
      "Epoch 8/10\n",
      "199364/199364 [==============================] - 17s 87us/step - loss: 0.0053 - accuracy: 0.9994\n",
      "Epoch 9/10\n",
      "199364/199364 [==============================] - 18s 89us/step - loss: 0.0053 - accuracy: 0.9994\n",
      "Epoch 10/10\n",
      "199364/199364 [==============================] - 17s 85us/step - loss: 0.0056 - accuracy: 0.9994\n"
     ]
    },
    {
     "data": {
      "text/plain": [
       "<keras.callbacks.callbacks.History at 0x1df21d8fa48>"
      ]
     },
     "execution_count": 51,
     "metadata": {},
     "output_type": "execute_result"
    }
   ],
   "source": [
    "model.compile(optimizer='RMSprop',  loss='binary_crossentropy',  metrics=['accuracy'])\n",
    "model.fit(x=X_train,y=y_train, epochs=10)"
   ]
  },
  {
   "cell_type": "code",
   "execution_count": 52,
   "metadata": {},
   "outputs": [
    {
     "name": "stdout",
     "output_type": "stream",
     "text": [
      "85443/85443 [==============================] - 4s 42us/step\n"
     ]
    },
    {
     "data": {
      "text/plain": [
       "[0.0061716970506942035, 0.9993680119514465]"
      ]
     },
     "execution_count": 52,
     "metadata": {},
     "output_type": "execute_result"
    }
   ],
   "source": [
    "model.evaluate(X_test, y_test)"
   ]
  },
  {
   "cell_type": "code",
   "execution_count": 53,
   "metadata": {},
   "outputs": [
    {
     "data": {
      "text/plain": [
       "array([[85273,    23],\n",
       "       [   31,   116]], dtype=int64)"
      ]
     },
     "execution_count": 53,
     "metadata": {},
     "output_type": "execute_result"
    }
   ],
   "source": [
    "y_pred = model.predict(X_test)\n",
    "y_pred = (y_pred > 0.5)\n",
    "from sklearn.metrics import confusion_matrix\n",
    "confusion_matrix(y_test, y_pred)"
   ]
  },
  {
   "cell_type": "code",
   "execution_count": 55,
   "metadata": {},
   "outputs": [
    {
     "name": "stdout",
     "output_type": "stream",
     "text": [
      "              precision    recall  f1-score   support\n",
      "\n",
      "           0       1.00      1.00      1.00     85296\n",
      "           1       0.83      0.79      0.81       147\n",
      "\n",
      "    accuracy                           1.00     85443\n",
      "   macro avg       0.92      0.89      0.91     85443\n",
      "weighted avg       1.00      1.00      1.00     85443\n",
      "\n"
     ]
    }
   ],
   "source": [
    "from sklearn.metrics import classification_report\n",
    "print(classification_report(y_test, y_pred))"
   ]
  },
  {
   "cell_type": "code",
   "execution_count": null,
   "metadata": {},
   "outputs": [],
   "source": [
    "# 3 layers(relu, softmax, sigmoid) \n",
    "# with ******ADAGRAD****** optimizer\n",
    "# loss = binary_crossentropy "
   ]
  },
  {
   "cell_type": "code",
   "execution_count": 60,
   "metadata": {},
   "outputs": [
    {
     "name": "stdout",
     "output_type": "stream",
     "text": [
      "Epoch 1/10\n",
      "199364/199364 [==============================] - 16s 83us/step - loss: 0.0040 - accuracy: 0.9995\n",
      "Epoch 2/10\n",
      "199364/199364 [==============================] - 17s 84us/step - loss: 0.0037 - accuracy: 0.9994\n",
      "Epoch 3/10\n",
      "199364/199364 [==============================] - 18s 89us/step - loss: 0.0035 - accuracy: 0.9995\n",
      "Epoch 4/10\n",
      "199364/199364 [==============================] - 17s 84us/step - loss: 0.0033 - accuracy: 0.9994\n",
      "Epoch 5/10\n",
      "199364/199364 [==============================] - 16s 80us/step - loss: 0.0032 - accuracy: 0.9994\n",
      "Epoch 6/10\n",
      "199364/199364 [==============================] - 16s 81us/step - loss: 0.0031 - accuracy: 0.9995\n",
      "Epoch 7/10\n",
      "199364/199364 [==============================] - 17s 83us/step - loss: 0.0030 - accuracy: 0.9995\n",
      "Epoch 8/10\n",
      "199364/199364 [==============================] - 16s 80us/step - loss: 0.0029 - accuracy: 0.9994\n",
      "Epoch 9/10\n",
      "199364/199364 [==============================] - 16s 80us/step - loss: 0.0029 - accuracy: 0.9994\n",
      "Epoch 10/10\n",
      "199364/199364 [==============================] - 16s 82us/step - loss: 0.0028 - accuracy: 0.9994\n"
     ]
    },
    {
     "data": {
      "text/plain": [
       "<keras.callbacks.callbacks.History at 0x1df21b11bc8>"
      ]
     },
     "execution_count": 60,
     "metadata": {},
     "output_type": "execute_result"
    }
   ],
   "source": [
    "model.compile(optimizer='Adagrad',  loss='binary_crossentropy',  metrics=['accuracy'])\n",
    "model.fit(x=X_train,y=y_train, epochs=10)"
   ]
  },
  {
   "cell_type": "code",
   "execution_count": 61,
   "metadata": {},
   "outputs": [
    {
     "name": "stdout",
     "output_type": "stream",
     "text": [
      "85443/85443 [==============================] - 4s 42us/step\n"
     ]
    },
    {
     "data": {
      "text/plain": [
       "[0.003660209756370661, 0.9993562698364258]"
      ]
     },
     "execution_count": 61,
     "metadata": {},
     "output_type": "execute_result"
    }
   ],
   "source": [
    "model.evaluate(X_test, y_test)"
   ]
  },
  {
   "cell_type": "code",
   "execution_count": 62,
   "metadata": {},
   "outputs": [
    {
     "data": {
      "text/plain": [
       "array([[85269,    27],\n",
       "       [   28,   119]], dtype=int64)"
      ]
     },
     "execution_count": 62,
     "metadata": {},
     "output_type": "execute_result"
    }
   ],
   "source": [
    "y_pred = model.predict(X_test)\n",
    "y_pred = (y_pred > 0.5)\n",
    "from sklearn.metrics import confusion_matrix\n",
    "confusion_matrix(y_test, y_pred)"
   ]
  },
  {
   "cell_type": "code",
   "execution_count": 63,
   "metadata": {},
   "outputs": [
    {
     "name": "stdout",
     "output_type": "stream",
     "text": [
      "              precision    recall  f1-score   support\n",
      "\n",
      "           0       1.00      1.00      1.00     85296\n",
      "           1       0.82      0.81      0.81       147\n",
      "\n",
      "    accuracy                           1.00     85443\n",
      "   macro avg       0.91      0.90      0.91     85443\n",
      "weighted avg       1.00      1.00      1.00     85443\n",
      "\n"
     ]
    }
   ],
   "source": [
    "from sklearn.metrics import classification_report\n",
    "print(classification_report(y_test, y_pred))"
   ]
  },
  {
   "cell_type": "code",
   "execution_count": null,
   "metadata": {},
   "outputs": [],
   "source": [
    "# 3 layers(relu, softmax, sigmoid) \n",
    "# with ******ADADELTA****** optimizer\n",
    "# loss = binary_crossentropy "
   ]
  },
  {
   "cell_type": "code",
   "execution_count": 111,
   "metadata": {},
   "outputs": [
    {
     "name": "stdout",
     "output_type": "stream",
     "text": [
      "Epoch 1/10\n",
      "199364/199364 [==============================] - 18s 91us/step - loss: 0.0489 - accuracy: 0.9983\n",
      "Epoch 2/10\n",
      "199364/199364 [==============================] - 18s 92us/step - loss: 0.0086 - accuracy: 0.9983\n",
      "Epoch 3/10\n",
      "199364/199364 [==============================] - 18s 89us/step - loss: 0.0072 - accuracy: 0.9983\n",
      "Epoch 4/10\n",
      "199364/199364 [==============================] - 20s 99us/step - loss: 0.0060 - accuracy: 0.9983\n",
      "Epoch 5/10\n",
      "199364/199364 [==============================] - 19s 95us/step - loss: 0.0051 - accuracy: 0.9983\n",
      "Epoch 6/10\n",
      "199364/199364 [==============================] - 19s 96us/step - loss: 0.0044 - accuracy: 0.9983\n",
      "Epoch 7/10\n",
      "199364/199364 [==============================] - 19s 97us/step - loss: 0.0039 - accuracy: 0.9987\n",
      "Epoch 8/10\n",
      "199364/199364 [==============================] - 19s 95us/step - loss: 0.0037 - accuracy: 0.9994\n",
      "Epoch 9/10\n",
      "199364/199364 [==============================] - 18s 92us/step - loss: 0.0036 - accuracy: 0.9994\n",
      "Epoch 10/10\n",
      "199364/199364 [==============================] - 19s 95us/step - loss: 0.0035 - accuracy: 0.9994\n"
     ]
    },
    {
     "data": {
      "text/plain": [
       "<keras.callbacks.callbacks.History at 0x1de2a000508>"
      ]
     },
     "execution_count": 111,
     "metadata": {},
     "output_type": "execute_result"
    }
   ],
   "source": [
    "model.compile(optimizer='Adadelta',  loss='binary_crossentropy',  metrics=['accuracy'])\n",
    "model.fit(x=X_train,y=y_train, epochs=10)"
   ]
  },
  {
   "cell_type": "code",
   "execution_count": 112,
   "metadata": {},
   "outputs": [
    {
     "name": "stdout",
     "output_type": "stream",
     "text": [
      "85443/85443 [==============================] - 4s 41us/step\n"
     ]
    },
    {
     "data": {
      "text/plain": [
       "[0.0035755269752421976, 0.9993680119514465]"
      ]
     },
     "execution_count": 112,
     "metadata": {},
     "output_type": "execute_result"
    }
   ],
   "source": [
    "model.evaluate(X_test, y_test)"
   ]
  },
  {
   "cell_type": "code",
   "execution_count": 113,
   "metadata": {},
   "outputs": [
    {
     "data": {
      "text/plain": [
       "array([[85274,    22],\n",
       "       [   32,   115]], dtype=int64)"
      ]
     },
     "execution_count": 113,
     "metadata": {},
     "output_type": "execute_result"
    }
   ],
   "source": [
    "y_pred = model.predict(X_test)\n",
    "y_pred = (y_pred > 0.5)\n",
    "from sklearn.metrics import confusion_matrix\n",
    "confusion_matrix(y_test, y_pred)"
   ]
  },
  {
   "cell_type": "code",
   "execution_count": 114,
   "metadata": {},
   "outputs": [
    {
     "name": "stdout",
     "output_type": "stream",
     "text": [
      "              precision    recall  f1-score   support\n",
      "\n",
      "           0       1.00      1.00      1.00     85296\n",
      "           1       0.84      0.78      0.81       147\n",
      "\n",
      "    accuracy                           1.00     85443\n",
      "   macro avg       0.92      0.89      0.90     85443\n",
      "weighted avg       1.00      1.00      1.00     85443\n",
      "\n"
     ]
    }
   ],
   "source": [
    "from sklearn.metrics import classification_report\n",
    "print(classification_report(y_test, y_pred))"
   ]
  },
  {
   "cell_type": "code",
   "execution_count": null,
   "metadata": {},
   "outputs": [],
   "source": [
    "# 3 layers(relu, softmax, sigmoid) \n",
    "# with ******NADAM****** optimizer\n",
    "# loss = binary_crossentropy "
   ]
  },
  {
   "cell_type": "code",
   "execution_count": 115,
   "metadata": {},
   "outputs": [
    {
     "name": "stdout",
     "output_type": "stream",
     "text": [
      "Epoch 1/10\n",
      "199364/199364 [==============================] - 22s 108us/step - loss: 0.0038 - accuracy: 0.9993\n",
      "Epoch 2/10\n",
      "199364/199364 [==============================] - 21s 106us/step - loss: 0.0036 - accuracy: 0.9993\n",
      "Epoch 3/10\n",
      "199364/199364 [==============================] - 20s 101us/step - loss: 0.0034 - accuracy: 0.9993\n",
      "Epoch 4/10\n",
      "199364/199364 [==============================] - 20s 102us/step - loss: 0.0032 - accuracy: 0.9993\n",
      "Epoch 5/10\n",
      "199364/199364 [==============================] - 21s 106us/step - loss: 0.0032 - accuracy: 0.9994\n",
      "Epoch 6/10\n",
      "199364/199364 [==============================] - 21s 103us/step - loss: 0.0031 - accuracy: 0.9993\n",
      "Epoch 7/10\n",
      "199364/199364 [==============================] - 21s 107us/step - loss: 0.0029 - accuracy: 0.9994\n",
      "Epoch 8/10\n",
      "199364/199364 [==============================] - 21s 103us/step - loss: 0.0028 - accuracy: 0.9994\n",
      "Epoch 9/10\n",
      "199364/199364 [==============================] - 23s 115us/step - loss: 0.0028 - accuracy: 0.9994\n",
      "Epoch 10/10\n",
      "199364/199364 [==============================] - 22s 108us/step - loss: 0.0028 - accuracy: 0.9995\n"
     ]
    },
    {
     "data": {
      "text/plain": [
       "<keras.callbacks.callbacks.History at 0x1df21f511c8>"
      ]
     },
     "execution_count": 115,
     "metadata": {},
     "output_type": "execute_result"
    }
   ],
   "source": [
    "model.compile(optimizer='Nadam',  loss='binary_crossentropy',  metrics=['accuracy'])\n",
    "model.fit(x=X_train,y=y_train, epochs=10)"
   ]
  },
  {
   "cell_type": "code",
   "execution_count": 116,
   "metadata": {},
   "outputs": [
    {
     "name": "stdout",
     "output_type": "stream",
     "text": [
      "85443/85443 [==============================] - 4s 44us/step\n"
     ]
    },
    {
     "data": {
      "text/plain": [
       "[0.0032321131882449266, 0.9994382262229919]"
      ]
     },
     "execution_count": 116,
     "metadata": {},
     "output_type": "execute_result"
    }
   ],
   "source": [
    "model.evaluate(X_test, y_test)"
   ]
  },
  {
   "cell_type": "code",
   "execution_count": 117,
   "metadata": {},
   "outputs": [
    {
     "data": {
      "text/plain": [
       "array([[85274,    22],\n",
       "       [   26,   121]], dtype=int64)"
      ]
     },
     "execution_count": 117,
     "metadata": {},
     "output_type": "execute_result"
    }
   ],
   "source": [
    "y_pred = model.predict(X_test)\n",
    "y_pred = (y_pred > 0.5)\n",
    "from sklearn.metrics import confusion_matrix\n",
    "confusion_matrix(y_test, y_pred)"
   ]
  },
  {
   "cell_type": "code",
   "execution_count": 118,
   "metadata": {},
   "outputs": [
    {
     "name": "stdout",
     "output_type": "stream",
     "text": [
      "              precision    recall  f1-score   support\n",
      "\n",
      "           0       1.00      1.00      1.00     85296\n",
      "           1       0.85      0.82      0.83       147\n",
      "\n",
      "    accuracy                           1.00     85443\n",
      "   macro avg       0.92      0.91      0.92     85443\n",
      "weighted avg       1.00      1.00      1.00     85443\n",
      "\n"
     ]
    }
   ],
   "source": [
    "from sklearn.metrics import classification_report\n",
    "print(classification_report(y_test, y_pred))"
   ]
  },
  {
   "cell_type": "code",
   "execution_count": null,
   "metadata": {},
   "outputs": [],
   "source": [
    "#########################################################----PART TWO----#####################################################"
   ]
  },
  {
   "cell_type": "code",
   "execution_count": null,
   "metadata": {},
   "outputs": [],
   "source": [
    "###############################################################################################################################"
   ]
  },
  {
   "cell_type": "code",
   "execution_count": null,
   "metadata": {},
   "outputs": [],
   "source": [
    "###############################################################################################################################"
   ]
  },
  {
   "cell_type": "code",
   "execution_count": null,
   "metadata": {},
   "outputs": [],
   "source": [
    "# above mentioned compilation illustrated us some good results (precision up 0.84, 0.83, 0.82). However what if we split dataset into \n",
    "#0.333 instead of 0.3  will we get better result?"
   ]
  },
  {
   "cell_type": "code",
   "execution_count": 138,
   "metadata": {},
   "outputs": [],
   "source": [
    "X = data.iloc[:, data.columns != 'Class']\n",
    "y = data.iloc[:, data.columns == 'Class']\n",
    "from sklearn.model_selection import train_test_split\n",
    "X_train, X_test, y_train, y_test = train_test_split(X,y, test_size = 0.333, random_state=0)\n",
    "\n"
   ]
  },
  {
   "cell_type": "code",
   "execution_count": 139,
   "metadata": {},
   "outputs": [
    {
     "data": {
      "text/plain": [
       "189966"
      ]
     },
     "execution_count": 139,
     "metadata": {},
     "output_type": "execute_result"
    }
   ],
   "source": [
    "X_train.shape[0]"
   ]
  },
  {
   "cell_type": "code",
   "execution_count": 140,
   "metadata": {},
   "outputs": [],
   "source": [
    "\n",
    "input_shape = (29, 1)"
   ]
  },
  {
   "cell_type": "code",
   "execution_count": 141,
   "metadata": {},
   "outputs": [
    {
     "data": {
      "text/plain": [
       "94841"
      ]
     },
     "execution_count": 141,
     "metadata": {},
     "output_type": "execute_result"
    }
   ],
   "source": [
    "X_test.shape[0]"
   ]
  },
  {
   "cell_type": "code",
   "execution_count": 142,
   "metadata": {},
   "outputs": [],
   "source": [
    "# 3 layers(relu, softmax, sigmoid) \n",
    "# with ADAM optimizer\n",
    "# loss = binary_crossentropy \n",
    "#Split data to 0.333"
   ]
  },
  {
   "cell_type": "code",
   "execution_count": 143,
   "metadata": {},
   "outputs": [],
   "source": [
    "# Importing the Keras libraries and packages\n",
    "import keras\n",
    "from keras.models import Sequential\n",
    "from keras.layers import Dense\n",
    "# Initialising the ANN\n",
    "model = Sequential()\n",
    "# Adding the input layer and the first hidden layer\n",
    "model.add(Dense(units =15 , kernel_initializer = 'uniform', activation = tf.nn.relu, input_dim = 28))\n",
    "# Adding the second hidden layer\n",
    "model.add(Dense(units = 15, kernel_initializer = 'uniform', activation = tf.nn.softmax))\n",
    "# Adding the output layer\n",
    "model.add(Dense(units = 1, kernel_initializer = 'uniform', activation = tf.nn.sigmoid))\n"
   ]
  },
  {
   "cell_type": "code",
   "execution_count": 144,
   "metadata": {},
   "outputs": [
    {
     "name": "stdout",
     "output_type": "stream",
     "text": [
      "Epoch 1/10\n",
      "189966/189966 [==============================] - 14s 75us/step - loss: 0.0779 - accuracy: 0.9979\n",
      "Epoch 2/10\n",
      "189966/189966 [==============================] - 16s 84us/step - loss: 0.0199 - accuracy: 0.9983\n",
      "Epoch 3/10\n",
      "189966/189966 [==============================] - 14s 74us/step - loss: 0.0160 - accuracy: 0.9983\n",
      "Epoch 4/10\n",
      "189966/189966 [==============================] - 12s 64us/step - loss: 0.0145 - accuracy: 0.9983\n",
      "Epoch 5/10\n",
      "189966/189966 [==============================] - 12s 62us/step - loss: 0.0139 - accuracy: 0.9983\n",
      "Epoch 6/10\n",
      "189966/189966 [==============================] - 13s 66us/step - loss: 0.0135 - accuracy: 0.9983\n",
      "Epoch 7/10\n",
      "189966/189966 [==============================] - 13s 66us/step - loss: 0.0133 - accuracy: 0.9983\n",
      "Epoch 8/10\n",
      "189966/189966 [==============================] - 13s 67us/step - loss: 0.0131 - accuracy: 0.9983\n",
      "Epoch 9/10\n",
      "189966/189966 [==============================] - 13s 68us/step - loss: 0.0130 - accuracy: 0.9983\n",
      "Epoch 10/10\n",
      "189966/189966 [==============================] - 14s 72us/step - loss: 0.0129 - accuracy: 0.9983\n"
     ]
    },
    {
     "data": {
      "text/plain": [
       "<keras.callbacks.callbacks.History at 0x1de2a3c9888>"
      ]
     },
     "execution_count": 144,
     "metadata": {},
     "output_type": "execute_result"
    }
   ],
   "source": [
    "# Compiling the ANN\n",
    "model.compile(optimizer='sgd',  loss='binary_crossentropy',  metrics=['accuracy'])\n",
    "model.fit(x=X_train,y=y_train, epochs=10)\n"
   ]
  },
  {
   "cell_type": "code",
   "execution_count": 145,
   "metadata": {},
   "outputs": [
    {
     "name": "stdout",
     "output_type": "stream",
     "text": [
      "94841/94841 [==============================] - 4s 47us/step\n"
     ]
    },
    {
     "data": {
      "text/plain": [
       "[0.012832320326538143, 0.9982813596725464]"
      ]
     },
     "execution_count": 145,
     "metadata": {},
     "output_type": "execute_result"
    }
   ],
   "source": [
    "model.evaluate(X_test, y_test)"
   ]
  },
  {
   "cell_type": "code",
   "execution_count": 146,
   "metadata": {},
   "outputs": [
    {
     "data": {
      "text/plain": [
       "array([[94678,     0],\n",
       "       [  163,     0]], dtype=int64)"
      ]
     },
     "execution_count": 146,
     "metadata": {},
     "output_type": "execute_result"
    }
   ],
   "source": [
    "y_pred = model.predict(X_test)\n",
    "y_pred = (y_pred > 0.5)\n",
    "from sklearn.metrics import confusion_matrix\n",
    "confusion_matrix(y_test, y_pred)\n"
   ]
  },
  {
   "cell_type": "code",
   "execution_count": 147,
   "metadata": {},
   "outputs": [
    {
     "name": "stdout",
     "output_type": "stream",
     "text": [
      "              precision    recall  f1-score   support\n",
      "\n",
      "           0       1.00      1.00      1.00     94678\n",
      "           1       0.00      0.00      0.00       163\n",
      "\n",
      "    accuracy                           1.00     94841\n",
      "   macro avg       0.50      0.50      0.50     94841\n",
      "weighted avg       1.00      1.00      1.00     94841\n",
      "\n"
     ]
    }
   ],
   "source": [
    "from sklearn.metrics import classification_report\n",
    "print(classification_report(y_test, y_pred))"
   ]
  },
  {
   "cell_type": "code",
   "execution_count": 148,
   "metadata": {},
   "outputs": [],
   "source": [
    "#With SGD optimizer,  it remains the same...\n",
    "#Let's see what will give compilations with other optimizers"
   ]
  },
  {
   "cell_type": "code",
   "execution_count": 149,
   "metadata": {},
   "outputs": [],
   "source": [
    "# 3 layers(relu, softmax, sigmoid) \n",
    "# with ADAM optimizer\n",
    "# loss = binary_crossentropy \n",
    "#Split data to 0.333"
   ]
  },
  {
   "cell_type": "code",
   "execution_count": 150,
   "metadata": {},
   "outputs": [],
   "source": [
    "# Importing the Keras libraries and packages\n",
    "import keras\n",
    "from keras.models import Sequential\n",
    "from keras.layers import Dense\n",
    "# Initialising the ANN\n",
    "model = Sequential()\n",
    "# Adding the input layer and the first hidden layer\n",
    "model.add(Dense(units =15 , kernel_initializer = 'uniform', activation = tf.nn.relu, input_dim = 28))\n",
    "# Adding the second hidden layer\n",
    "model.add(Dense(units = 15, kernel_initializer = 'uniform', activation = tf.nn.softmax))\n",
    "# Adding the output layer\n",
    "model.add(Dense(units = 1, kernel_initializer = 'uniform', activation = tf.nn.sigmoid))\n"
   ]
  },
  {
   "cell_type": "code",
   "execution_count": 151,
   "metadata": {},
   "outputs": [
    {
     "name": "stdout",
     "output_type": "stream",
     "text": [
      "Epoch 1/10\n",
      "189966/189966 [==============================] - 21s 109us/step - loss: 0.0856 - accuracy: 0.9983\n",
      "Epoch 2/10\n",
      "189966/189966 [==============================] - 19s 99us/step - loss: 0.0070 - accuracy: 0.9983\n",
      "Epoch 3/10\n",
      "189966/189966 [==============================] - 18s 95us/step - loss: 0.0043 - accuracy: 0.9984\n",
      "Epoch 4/10\n",
      "189966/189966 [==============================] - 18s 93us/step - loss: 0.0034 - accuracy: 0.9994\n",
      "Epoch 5/10\n",
      "189966/189966 [==============================] - 18s 94us/step - loss: 0.0031 - accuracy: 0.9994\n",
      "Epoch 6/10\n",
      "189966/189966 [==============================] - 18s 93us/step - loss: 0.0031 - accuracy: 0.9994\n",
      "Epoch 7/10\n",
      "189966/189966 [==============================] - 18s 94us/step - loss: 0.0030 - accuracy: 0.9994\n",
      "Epoch 8/10\n",
      "189966/189966 [==============================] - 18s 94us/step - loss: 0.0028 - accuracy: 0.9995\n",
      "Epoch 9/10\n",
      "189966/189966 [==============================] - 18s 93us/step - loss: 0.0028 - accuracy: 0.9995\n",
      "Epoch 10/10\n",
      "189966/189966 [==============================] - 18s 94us/step - loss: 0.0028 - accuracy: 0.9995\n"
     ]
    },
    {
     "data": {
      "text/plain": [
       "<keras.callbacks.callbacks.History at 0x1de29d92448>"
      ]
     },
     "execution_count": 151,
     "metadata": {},
     "output_type": "execute_result"
    }
   ],
   "source": [
    "model.compile(optimizer='adam',  loss='binary_crossentropy',  metrics=['accuracy'])\n",
    "model.fit(x=X_train,y=y_train, epochs=10)"
   ]
  },
  {
   "cell_type": "code",
   "execution_count": 152,
   "metadata": {},
   "outputs": [
    {
     "name": "stdout",
     "output_type": "stream",
     "text": [
      "94841/94841 [==============================] - 4s 41us/step\n"
     ]
    },
    {
     "data": {
      "text/plain": [
       "[0.003237746490512764, 0.9994411468505859]"
      ]
     },
     "execution_count": 152,
     "metadata": {},
     "output_type": "execute_result"
    }
   ],
   "source": [
    "model.evaluate(X_test, y_test)"
   ]
  },
  {
   "cell_type": "code",
   "execution_count": 153,
   "metadata": {},
   "outputs": [
    {
     "data": {
      "text/plain": [
       "array([[94655,    23],\n",
       "       [   30,   133]], dtype=int64)"
      ]
     },
     "execution_count": 153,
     "metadata": {},
     "output_type": "execute_result"
    }
   ],
   "source": [
    "y_pred = model.predict(X_test)\n",
    "y_pred = (y_pred > 0.5)\n",
    "from sklearn.metrics import confusion_matrix\n",
    "confusion_matrix(y_test, y_pred)"
   ]
  },
  {
   "cell_type": "code",
   "execution_count": 154,
   "metadata": {},
   "outputs": [
    {
     "name": "stdout",
     "output_type": "stream",
     "text": [
      "              precision    recall  f1-score   support\n",
      "\n",
      "           0       1.00      1.00      1.00     94678\n",
      "           1       0.85      0.82      0.83       163\n",
      "\n",
      "    accuracy                           1.00     94841\n",
      "   macro avg       0.93      0.91      0.92     94841\n",
      "weighted avg       1.00      1.00      1.00     94841\n",
      "\n"
     ]
    }
   ],
   "source": [
    "from sklearn.metrics import classification_report\n",
    "print(classification_report(y_test, y_pred))"
   ]
  },
  {
   "cell_type": "code",
   "execution_count": null,
   "metadata": {},
   "outputs": [],
   "source": [
    "#As it can be seen we we splitted data set to 0.3 we precision was 0.84.\n",
    "#But when we splitted to 0.333 we increased  precision to 0.85.\n",
    "#Let's see how compilations with another optimizers will show..."
   ]
  },
  {
   "cell_type": "code",
   "execution_count": null,
   "metadata": {},
   "outputs": [],
   "source": [
    "# 3 layers(relu, softmax, sigmoid) \n",
    "# with RMSprop optimizer\n",
    "# loss = binary_crossentropy \n",
    "#Split data to 0.333"
   ]
  },
  {
   "cell_type": "code",
   "execution_count": null,
   "metadata": {},
   "outputs": [],
   "source": [
    "# Importing the Keras libraries and packages\n",
    "import keras\n",
    "from keras.models import Sequential\n",
    "from keras.layers import Dense\n",
    "# Initialising the ANN\n",
    "model = Sequential()\n",
    "# Adding the input layer and the first hidden layer\n",
    "model.add(Dense(units =15 , kernel_initializer = 'uniform', activation = tf.nn.relu, input_dim = 28))\n",
    "# Adding the second hidden layer\n",
    "model.add(Dense(units = 15, kernel_initializer = 'uniform', activation = tf.nn.softmax))\n",
    "# Adding the output layer\n",
    "model.add(Dense(units = 1, kernel_initializer = 'uniform', activation = tf.nn.sigmoid))"
   ]
  },
  {
   "cell_type": "code",
   "execution_count": 155,
   "metadata": {},
   "outputs": [
    {
     "name": "stdout",
     "output_type": "stream",
     "text": [
      "Epoch 1/10\n",
      "189966/189966 [==============================] - 16s 85us/step - loss: 0.0039 - accuracy: 0.9994\n",
      "Epoch 2/10\n",
      "189966/189966 [==============================] - 16s 84us/step - loss: 0.0043 - accuracy: 0.9994\n",
      "Epoch 3/10\n",
      "189966/189966 [==============================] - 16s 85us/step - loss: 0.0045 - accuracy: 0.9994\n",
      "Epoch 4/10\n",
      "189966/189966 [==============================] - 16s 86us/step - loss: 0.0046 - accuracy: 0.9994\n",
      "Epoch 5/10\n",
      "189966/189966 [==============================] - 17s 88us/step - loss: 0.0048 - accuracy: 0.9994\n",
      "Epoch 6/10\n",
      "189966/189966 [==============================] - 17s 88us/step - loss: 0.0048 - accuracy: 0.9994\n",
      "Epoch 7/10\n",
      "189966/189966 [==============================] - 17s 87us/step - loss: 0.0049 - accuracy: 0.9995\n",
      "Epoch 8/10\n",
      "189966/189966 [==============================] - 17s 90us/step - loss: 0.0053 - accuracy: 0.9994\n",
      "Epoch 9/10\n",
      "189966/189966 [==============================] - 17s 87us/step - loss: 0.0051 - accuracy: 0.9995\n",
      "Epoch 10/10\n",
      "189966/189966 [==============================] - 16s 86us/step - loss: 0.0052 - accuracy: 0.9995\n"
     ]
    },
    {
     "data": {
      "text/plain": [
       "<keras.callbacks.callbacks.History at 0x1de29edc588>"
      ]
     },
     "execution_count": 155,
     "metadata": {},
     "output_type": "execute_result"
    }
   ],
   "source": [
    "model.compile(optimizer='RMSprop',  loss='binary_crossentropy',  metrics=['accuracy'])\n",
    "model.fit(x=X_train,y=y_train, epochs=10)\n"
   ]
  },
  {
   "cell_type": "code",
   "execution_count": 156,
   "metadata": {},
   "outputs": [
    {
     "name": "stdout",
     "output_type": "stream",
     "text": [
      "94841/94841 [==============================] - 4s 44us/step\n"
     ]
    },
    {
     "data": {
      "text/plain": [
       "[0.00615121423626668, 0.9993779063224792]"
      ]
     },
     "execution_count": 156,
     "metadata": {},
     "output_type": "execute_result"
    }
   ],
   "source": [
    "model.evaluate(X_test, y_test)\n"
   ]
  },
  {
   "cell_type": "code",
   "execution_count": 160,
   "metadata": {},
   "outputs": [
    {
     "data": {
      "text/plain": [
       "array([[94647,    31],\n",
       "       [   28,   135]], dtype=int64)"
      ]
     },
     "execution_count": 160,
     "metadata": {},
     "output_type": "execute_result"
    }
   ],
   "source": [
    "y_pred = model.predict(X_test)\n",
    "y_pred = (y_pred > 0.5)\n",
    "from sklearn.metrics import confusion_matrix\n",
    "confusion_matrix(y_test, y_pred)\n"
   ]
  },
  {
   "cell_type": "code",
   "execution_count": 161,
   "metadata": {},
   "outputs": [
    {
     "name": "stdout",
     "output_type": "stream",
     "text": [
      "              precision    recall  f1-score   support\n",
      "\n",
      "           0       1.00      1.00      1.00     94678\n",
      "           1       0.81      0.83      0.82       163\n",
      "\n",
      "    accuracy                           1.00     94841\n",
      "   macro avg       0.91      0.91      0.91     94841\n",
      "weighted avg       1.00      1.00      1.00     94841\n",
      "\n"
     ]
    }
   ],
   "source": [
    "from sklearn.metrics import classification_report\n",
    "print(classification_report(y_test, y_pred))"
   ]
  },
  {
   "cell_type": "code",
   "execution_count": 162,
   "metadata": {},
   "outputs": [],
   "source": [
    "#As it can be seen we we splitted data set to 0.3 our precision value was 0.83. \n",
    "#But when we splitted to 0.333 we increased  precision to 0.86.\n",
    "#Let's see how compilations with another optimizers will show..."
   ]
  },
  {
   "cell_type": "code",
   "execution_count": 163,
   "metadata": {},
   "outputs": [],
   "source": [
    "# 3 layers(relu, softmax, sigmoid) \n",
    "# with Adagrad optimizer\n",
    "# loss = binary_crossentropy \n",
    "#Split data to 0.333"
   ]
  },
  {
   "cell_type": "code",
   "execution_count": null,
   "metadata": {},
   "outputs": [],
   "source": [
    "# Importing the Keras libraries and packages\n",
    "import keras\n",
    "from keras.models import Sequential\n",
    "from keras.layers import Dense\n",
    "# Initialising the ANN\n",
    "model = Sequential()\n",
    "# Adding the input layer and the first hidden layer\n",
    "model.add(Dense(units =15 , kernel_initializer = 'uniform', activation = tf.nn.relu, input_dim = 28))\n",
    "# Adding the second hidden layer\n",
    "model.add(Dense(units = 15, kernel_initializer = 'uniform', activation = tf.nn.softmax))\n",
    "# Adding the output layer\n",
    "model.add(Dense(units = 1, kernel_initializer = 'uniform', activation = tf.nn.sigmoid))"
   ]
  },
  {
   "cell_type": "code",
   "execution_count": 102,
   "metadata": {},
   "outputs": [
    {
     "name": "stdout",
     "output_type": "stream",
     "text": [
      "Epoch 1/10\n",
      "189966/189966 [==============================] - 14s 73us/step - loss: 0.0043 - accuracy: 0.9995\n",
      "Epoch 2/10\n",
      "189966/189966 [==============================] - 14s 73us/step - loss: 0.0037 - accuracy: 0.9995\n",
      "Epoch 3/10\n",
      "189966/189966 [==============================] - 14s 75us/step - loss: 0.0037 - accuracy: 0.9995\n",
      "Epoch 4/10\n",
      "189966/189966 [==============================] - 14s 73us/step - loss: 0.0036 - accuracy: 0.9995\n",
      "Epoch 5/10\n",
      "189966/189966 [==============================] - 14s 75us/step - loss: 0.0036 - accuracy: 0.9995\n",
      "Epoch 6/10\n",
      "189966/189966 [==============================] - 15s 81us/step - loss: 0.0035 - accuracy: 0.9995\n",
      "Epoch 7/10\n",
      "189966/189966 [==============================] - 16s 82us/step - loss: 0.0035 - accuracy: 0.9995\n",
      "Epoch 8/10\n",
      "189966/189966 [==============================] - 16s 83us/step - loss: 0.0035 - accuracy: 0.9995\n",
      "Epoch 9/10\n",
      "189966/189966 [==============================] - 16s 85us/step - loss: 0.0035 - accuracy: 0.9995\n",
      "Epoch 10/10\n",
      "189966/189966 [==============================] - 17s 89us/step - loss: 0.0034 - accuracy: 0.9995\n"
     ]
    },
    {
     "data": {
      "text/plain": [
       "<keras.callbacks.callbacks.History at 0x1de29f58208>"
      ]
     },
     "execution_count": 102,
     "metadata": {},
     "output_type": "execute_result"
    }
   ],
   "source": [
    "model.compile(optimizer='Adagrad',  loss='binary_crossentropy',  metrics=['accuracy'])\n",
    "model.fit(x=X_train,y=y_train, epochs=10)\n"
   ]
  },
  {
   "cell_type": "code",
   "execution_count": 103,
   "metadata": {},
   "outputs": [
    {
     "name": "stdout",
     "output_type": "stream",
     "text": [
      "94841/94841 [==============================] - 4s 46us/step\n"
     ]
    },
    {
     "data": {
      "text/plain": [
       "[0.005033404198799858, 0.9993990063667297]"
      ]
     },
     "execution_count": 103,
     "metadata": {},
     "output_type": "execute_result"
    }
   ],
   "source": [
    "model.evaluate(X_test, y_test)\n"
   ]
  },
  {
   "cell_type": "code",
   "execution_count": 104,
   "metadata": {},
   "outputs": [
    {
     "data": {
      "text/plain": [
       "array([[94658,    20],\n",
       "       [   37,   126]], dtype=int64)"
      ]
     },
     "execution_count": 104,
     "metadata": {},
     "output_type": "execute_result"
    }
   ],
   "source": [
    "y_pred = model.predict(X_test)\n",
    "y_pred = (y_pred > 0.5)\n",
    "from sklearn.metrics import confusion_matrix\n",
    "confusion_matrix(y_test, y_pred)\n"
   ]
  },
  {
   "cell_type": "code",
   "execution_count": 105,
   "metadata": {},
   "outputs": [
    {
     "name": "stdout",
     "output_type": "stream",
     "text": [
      "              precision    recall  f1-score   support\n",
      "\n",
      "           0       1.00      1.00      1.00     94678\n",
      "           1       0.86      0.77      0.82       163\n",
      "\n",
      "    accuracy                           1.00     94841\n",
      "   macro avg       0.93      0.89      0.91     94841\n",
      "weighted avg       1.00      1.00      1.00     94841\n",
      "\n"
     ]
    }
   ],
   "source": [
    "from sklearn.metrics import classification_report\n",
    "print(classification_report(y_test, y_pred))"
   ]
  },
  {
   "cell_type": "code",
   "execution_count": null,
   "metadata": {},
   "outputs": [],
   "source": [
    "#As it can be seen we we splitted data set to 0.3 we our precision value was 0.82.\n",
    "#But when we splitted to 0.333 we increased  precision to 0.86.\n",
    "#Let's see how compilations with another optimizers will tell..."
   ]
  },
  {
   "cell_type": "code",
   "execution_count": null,
   "metadata": {},
   "outputs": [],
   "source": [
    "# 3 layers(relu, softmax, sigmoid) \n",
    "# with ******ADADELTA****** optimizer\n",
    "# loss = binary_crossentropy  \n",
    "#Split data to 0.333"
   ]
  },
  {
   "cell_type": "code",
   "execution_count": null,
   "metadata": {},
   "outputs": [],
   "source": [
    "# Importing the Keras libraries and packages\n",
    "import keras\n",
    "from keras.models import Sequential\n",
    "from keras.layers import Dense\n",
    "# Initialising the ANN\n",
    "model = Sequential()\n",
    "# Adding the input layer and the first hidden layer\n",
    "model.add(Dense(units =15 , kernel_initializer = 'uniform', activation = tf.nn.relu, input_dim = 28))\n",
    "# Adding the second hidden layer\n",
    "model.add(Dense(units = 15, kernel_initializer = 'uniform', activation = tf.nn.softmax))\n",
    "# Adding the output layer\n",
    "model.add(Dense(units = 1, kernel_initializer = 'uniform', activation = tf.nn.sigmoid))"
   ]
  },
  {
   "cell_type": "code",
   "execution_count": 124,
   "metadata": {},
   "outputs": [
    {
     "name": "stdout",
     "output_type": "stream",
     "text": [
      "Epoch 1/10\n",
      "189966/189966 [==============================] - 18s 97us/step - loss: 0.0514 - accuracy: 0.9983\n",
      "Epoch 2/10\n",
      "189966/189966 [==============================] - 19s 98us/step - loss: 0.0083 - accuracy: 0.9983\n",
      "Epoch 3/10\n",
      "189966/189966 [==============================] - 19s 100us/step - loss: 0.0070 - accuracy: 0.9983\n",
      "Epoch 4/10\n",
      "189966/189966 [==============================] - 18s 95us/step - loss: 0.0059 - accuracy: 0.9983\n",
      "Epoch 5/10\n",
      "189966/189966 [==============================] - 19s 98us/step - loss: 0.0050 - accuracy: 0.9983\n",
      "Epoch 6/10\n",
      "189966/189966 [==============================] - 18s 92us/step - loss: 0.0044 - accuracy: 0.9983\n",
      "Epoch 7/10\n",
      "189966/189966 [==============================] - 18s 95us/step - loss: 0.0040 - accuracy: 0.9987\n",
      "Epoch 8/10\n",
      "189966/189966 [==============================] - 18s 95us/step - loss: 0.0037 - accuracy: 0.9994\n",
      "Epoch 9/10\n",
      "189966/189966 [==============================] - 18s 96us/step - loss: 0.0035 - accuracy: 0.9994\n",
      "Epoch 10/10\n",
      "189966/189966 [==============================] - 18s 95us/step - loss: 0.0035 - accuracy: 0.9994\n"
     ]
    },
    {
     "data": {
      "text/plain": [
       "<keras.callbacks.callbacks.History at 0x1de29bca288>"
      ]
     },
     "execution_count": 124,
     "metadata": {},
     "output_type": "execute_result"
    }
   ],
   "source": [
    "model.compile(optimizer='Adadelta',  loss='binary_crossentropy',  metrics=['accuracy'])\n",
    "model.fit(x=X_train,y=y_train, epochs=10)\n"
   ]
  },
  {
   "cell_type": "code",
   "execution_count": 125,
   "metadata": {},
   "outputs": [
    {
     "name": "stdout",
     "output_type": "stream",
     "text": [
      "94841/94841 [==============================] - 4s 45us/step\n"
     ]
    },
    {
     "data": {
      "text/plain": [
       "[0.0033991166091827175, 0.9993779063224792]"
      ]
     },
     "execution_count": 125,
     "metadata": {},
     "output_type": "execute_result"
    }
   ],
   "source": [
    "model.evaluate(X_test, y_test)"
   ]
  },
  {
   "cell_type": "code",
   "execution_count": 126,
   "metadata": {},
   "outputs": [
    {
     "data": {
      "text/plain": [
       "array([[94651,    27],\n",
       "       [   32,   131]], dtype=int64)"
      ]
     },
     "execution_count": 126,
     "metadata": {},
     "output_type": "execute_result"
    }
   ],
   "source": [
    "y_pred = model.predict(X_test)\n",
    "y_pred = (y_pred > 0.5)\n",
    "from sklearn.metrics import confusion_matrix\n",
    "confusion_matrix(y_test, y_pred)\n"
   ]
  },
  {
   "cell_type": "code",
   "execution_count": 127,
   "metadata": {},
   "outputs": [
    {
     "name": "stdout",
     "output_type": "stream",
     "text": [
      "              precision    recall  f1-score   support\n",
      "\n",
      "           0       1.00      1.00      1.00     94678\n",
      "           1       0.83      0.80      0.82       163\n",
      "\n",
      "    accuracy                           1.00     94841\n",
      "   macro avg       0.91      0.90      0.91     94841\n",
      "weighted avg       1.00      1.00      1.00     94841\n",
      "\n"
     ]
    }
   ],
   "source": [
    "from sklearn.metrics import classification_report\n",
    "print(classification_report(y_test, y_pred))\n",
    "\n"
   ]
  },
  {
   "cell_type": "code",
   "execution_count": null,
   "metadata": {},
   "outputs": [],
   "source": []
  },
  {
   "cell_type": "code",
   "execution_count": null,
   "metadata": {},
   "outputs": [],
   "source": [
    "# 3 layers(relu, softmax, sigmoid) \n",
    "# with ******NADAM****** optimizer\n",
    "# loss = binary_crossentropy \n"
   ]
  },
  {
   "cell_type": "code",
   "execution_count": 128,
   "metadata": {},
   "outputs": [
    {
     "name": "stdout",
     "output_type": "stream",
     "text": [
      "Epoch 1/10\n",
      "189966/189966 [==============================] - 18s 93us/step - loss: 0.0034 - accuracy: 0.9993\n",
      "Epoch 2/10\n",
      "189966/189966 [==============================] - 17s 92us/step - loss: 0.0034 - accuracy: 0.9993\n",
      "Epoch 3/10\n",
      "189966/189966 [==============================] - 18s 94us/step - loss: 0.0032 - accuracy: 0.9993\n",
      "Epoch 4/10\n",
      "189966/189966 [==============================] - 19s 98us/step - loss: 0.0031 - accuracy: 0.9993\n",
      "Epoch 5/10\n",
      "189966/189966 [==============================] - 19s 102us/step - loss: 0.0031 - accuracy: 0.9993\n",
      "Epoch 6/10\n",
      "189966/189966 [==============================] - 19s 101us/step - loss: 0.0030 - accuracy: 0.9994\n",
      "Epoch 7/10\n",
      "189966/189966 [==============================] - 19s 102us/step - loss: 0.0029 - accuracy: 0.9994\n",
      "Epoch 8/10\n",
      "189966/189966 [==============================] - 19s 103us/step - loss: 0.0029 - accuracy: 0.9994\n",
      "Epoch 9/10\n",
      "189966/189966 [==============================] - 19s 99us/step - loss: 0.0030 - accuracy: 0.9994\n",
      "Epoch 10/10\n",
      "189966/189966 [==============================] - 19s 103us/step - loss: 0.0028 - accuracy: 0.9994\n"
     ]
    },
    {
     "data": {
      "text/plain": [
       "<keras.callbacks.callbacks.History at 0x1de2a2e0848>"
      ]
     },
     "execution_count": 128,
     "metadata": {},
     "output_type": "execute_result"
    }
   ],
   "source": [
    "model.compile(optimizer='Nadam',  loss='binary_crossentropy',  metrics=['accuracy'])\n",
    "model.fit(x=X_train,y=y_train, epochs=10)\n"
   ]
  },
  {
   "cell_type": "code",
   "execution_count": 129,
   "metadata": {},
   "outputs": [
    {
     "name": "stdout",
     "output_type": "stream",
     "text": [
      "94841/94841 [==============================] - 5s 52us/step\n"
     ]
    },
    {
     "data": {
      "text/plain": [
       "[0.0034073854739274058, 0.9992724657058716]"
      ]
     },
     "execution_count": 129,
     "metadata": {},
     "output_type": "execute_result"
    }
   ],
   "source": [
    "model.evaluate(X_test, y_test)\n"
   ]
  },
  {
   "cell_type": "code",
   "execution_count": 130,
   "metadata": {},
   "outputs": [
    {
     "data": {
      "text/plain": [
       "array([[94636,    42],\n",
       "       [   27,   136]], dtype=int64)"
      ]
     },
     "execution_count": 130,
     "metadata": {},
     "output_type": "execute_result"
    }
   ],
   "source": [
    "y_pred = model.predict(X_test)\n",
    "y_pred = (y_pred > 0.5)\n",
    "from sklearn.metrics import confusion_matrix\n",
    "confusion_matrix(y_test, y_pred)\n"
   ]
  },
  {
   "cell_type": "code",
   "execution_count": 131,
   "metadata": {},
   "outputs": [
    {
     "name": "stdout",
     "output_type": "stream",
     "text": [
      "              precision    recall  f1-score   support\n",
      "\n",
      "           0       1.00      1.00      1.00     94678\n",
      "           1       0.76      0.83      0.80       163\n",
      "\n",
      "    accuracy                           1.00     94841\n",
      "   macro avg       0.88      0.92      0.90     94841\n",
      "weighted avg       1.00      1.00      1.00     94841\n",
      "\n"
     ]
    }
   ],
   "source": [
    "from sklearn.metrics import classification_report\n",
    "print(classification_report(y_test, y_pred))\n",
    "\n"
   ]
  },
  {
   "cell_type": "code",
   "execution_count": null,
   "metadata": {},
   "outputs": [],
   "source": []
  },
  {
   "cell_type": "code",
   "execution_count": null,
   "metadata": {},
   "outputs": [],
   "source": []
  },
  {
   "cell_type": "code",
   "execution_count": null,
   "metadata": {},
   "outputs": [],
   "source": []
  },
  {
   "cell_type": "code",
   "execution_count": null,
   "metadata": {},
   "outputs": [],
   "source": []
  }
 ],
 "metadata": {
  "kernelspec": {
   "display_name": "Python 3",
   "language": "python",
   "name": "python3"
  },
  "language_info": {
   "codemirror_mode": {
    "name": "ipython",
    "version": 3
   },
   "file_extension": ".py",
   "mimetype": "text/x-python",
   "name": "python",
   "nbconvert_exporter": "python",
   "pygments_lexer": "ipython3",
   "version": "3.7.4"
  }
 },
 "nbformat": 4,
 "nbformat_minor": 2
}
